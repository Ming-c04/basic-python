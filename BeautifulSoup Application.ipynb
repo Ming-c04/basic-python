{
 "cells": [
  {
   "cell_type": "code",
   "execution_count": 1,
   "metadata": {},
   "outputs": [
    {
     "name": "stdout",
     "output_type": "stream",
     "text": [
      "Row 10 done ==> Mountain name: Senjoga-dake\n",
      "Row 20 done ==> Mountain name: Washibadake\n",
      "Row 30 done ==> Mountain name: Kinpu-san\n",
      "Row 40 done ==> Mountain name: Hiuchiga-take\n",
      "Row 50 done ==> Mountain name: Naeba-san\n",
      "Row 60 done ==> Mountain name: Nishi-Azuma-yama\n",
      "Row 70 done ==> Mountain name: Miyanoura-dake\n",
      "Row 80 done ==> Mountain name: Kuju-san\n",
      "Row 90 done ==> Mountain name: Hachimantai\n",
      "Row 100 done ==> Mountain name: Tsukuba-san\n"
     ]
    }
   ],
   "source": [
    "import requests\n",
    "from urllib.request import urlopen\n",
    "from bs4 import BeautifulSoup\n",
    "import csv\n",
    "import re\n",
    "import ssl\n",
    "\n",
    "requests.packages.urllib3.disable_warnings()\n",
    "url = 'https://www.peakbagger.com/list.aspx?lid=5651'\n",
    "html = requests.get(url, verify = False).text\n",
    "soup=BeautifulSoup(html,\"html.parser\")\n",
    "\n",
    "\n",
    "outfile=open('../data/mountains.csv', 'w', newline = '', encoding = 'utf-8')\n",
    "writer=csv.writer(outfile)\n",
    "writer.writerow([\"no.\",\"name\",\"region\",\"elev\",\"lat\",\"long\",\"url\"])\n",
    "\n",
    "rows = soup.find('table',{'class':'gray'}).find_all('tr')\n",
    "\n",
    "i=1\n",
    "\n",
    "for row in rows:\n",
    "    if i>2:\n",
    "        no=row.select(\"td:nth-of-type({})\".format(1))[0].get_text().strip()\n",
    "        name=row.select(\"td:nth-of-type({})\".format(2))[0].get_text().strip()\n",
    "        region=row.select(\"td:nth-of-type({})\".format(3))[0].get_text().strip()\n",
    "        elev=row.select(\"td:nth-of-type({})\".format(4))[0].get_text().strip()\n",
    "        mountain_url=row.select(\"td:nth-of-type({})\".format(2))[0].find_all(\"a\")[0].get(\"href\")\n",
    "        mountain_page=\"https://www.peakbagger.com/\"+str(mountain_url)\n",
    "        mountain_html=urlopen(mountain_page)\n",
    "        mountain_soup=BeautifulSoup(mountain_html,\"html.parser\")\n",
    "        mountain_table=mountain_soup.find('table',{'class':'gray'}).get_text()\n",
    "        coord=re.findall('[0-9]+\\.[0-9]+.*\\(Dec Deg\\)',mountain_table)[0]\n",
    "        lat=re.findall(\"[0-9]+\\.[0-9]+\",coord)[0]\n",
    "        long=re.findall(\"[0-9]+\\.[0-9]+\",coord)[1]\n",
    "        rowdata=[no,name,region,elev,lat,long,mountain_url]\n",
    "        writer.writerow(rowdata)\n",
    "        if (i-2)%10==0:\n",
    "            print(\"Row\",i-2,\"done ==> Mountain name:\",name)\n",
    "        i+=1\n",
    "        \n",
    "    else:\n",
    "        i+=1\n",
    "    \n",
    "\n",
    "\n",
    "\n",
    "\n",
    "outfile.close()"
   ]
  },
  {
   "cell_type": "code",
   "execution_count": null,
   "metadata": {},
   "outputs": [],
   "source": []
  }
 ],
 "metadata": {
  "kernelspec": {
   "display_name": "Python 3",
   "language": "python",
   "name": "python3"
  },
  "language_info": {
   "codemirror_mode": {
    "name": "ipython",
    "version": 3
   },
   "file_extension": ".py",
   "mimetype": "text/x-python",
   "name": "python",
   "nbconvert_exporter": "python",
   "pygments_lexer": "ipython3",
   "version": "3.8.5"
  }
 },
 "nbformat": 4,
 "nbformat_minor": 4
}
